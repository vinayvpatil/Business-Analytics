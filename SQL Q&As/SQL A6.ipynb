{
 "cells": [
  {
   "cell_type": "markdown",
   "metadata": {},
   "source": [
    "## SQL A6\n",
    "### Q-1. Write an SQL query to print details of the Workers who have joined in Feb’2014.\n",
    "#### Answer :\n",
    "\\# Solution 1 <br>\n",
    "SELECT * FROM Worker WHERE YEAR(JOINING_DATE) = 2014 AND MONTH(JOINING_DATE) = 02; <br>\n",
    "\\# Solution 2 <br>\n",
    "SELECT * FROM Worker WHERE JOINING_DATE LIKE \"%2014-02%\""
   ]
  },
  {
   "cell_type": "markdown",
   "metadata": {},
   "source": [
    "### Q-2. Write an SQL query to fetch duplicate records having matching data in some fields of a table.\n",
    "#### Answer :\n",
    "SELECT column_name, COUNT(column_name) FROM Worker GROUP BY FEILD HAVING COUNT(column_name) > 1;"
   ]
  },
  {
   "cell_type": "markdown",
   "metadata": {},
   "source": [
    "### Q-3. How to remove duplicate rows from Employees table.\n",
    "#### Answer :\n",
    "\\# Solution 1 <br>\n",
    "DELETE e1.* from employee e1 INNER JOIN employee e2 WHERE e1.id > e2.id AND e1.FIRST_NAME = e2.FIRST_NAME AND e1.LAST_NAME = e2.LAST_NAME  <br>\n",
    "  <br>\n",
    "\\# Solution 2 <br>\n",
    "delete e from Employee e <br>\n",
    "join Employee e2 <br>\n",
    "where e.Id > e2.Id <br>\n",
    "and e.Email = e2.Email;"
   ]
  }
 ],
 "metadata": {
  "kernelspec": {
   "display_name": "Python 3",
   "language": "python",
   "name": "python3"
  },
  "language_info": {
   "codemirror_mode": {
    "name": "ipython",
    "version": 3
   },
   "file_extension": ".py",
   "mimetype": "text/x-python",
   "name": "python",
   "nbconvert_exporter": "python",
   "pygments_lexer": "ipython3",
   "version": "3.8.5"
  }
 },
 "nbformat": 4,
 "nbformat_minor": 4
}
