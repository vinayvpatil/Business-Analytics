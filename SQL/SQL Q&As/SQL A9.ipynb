{
 "cells": [
  {
   "cell_type": "markdown",
   "metadata": {},
   "source": [
    "## SQL A9\n",
    "### Q-17.  Write an SQL query to show the top n (say 10) records of a table.\n",
    "#### Answer :\n",
    "SELECT TOP 10 * FROM Worker; #Top Keyword is not supported by Many Popular Databases  \n",
    "SELECT * FROM Worker LIMIT 10;"
   ]
  },
  {
   "cell_type": "markdown",
   "metadata": {},
   "source": [
    "### Q-18. Write an SQL query to determine the nth (say n=5) highest salary from a table.\n",
    "#### Answer :\n",
    "SELECT DISTINCT(Salary) FROM Worker ORDER BY DESC LIMIT 1 OFFSET 5;"
   ]
  }
 ],
 "metadata": {
  "kernelspec": {
   "display_name": "Python 3",
   "language": "python",
   "name": "python3"
  },
  "language_info": {
   "codemirror_mode": {
    "name": "ipython",
    "version": 3
   },
   "file_extension": ".py",
   "mimetype": "text/x-python",
   "name": "python",
   "nbconvert_exporter": "python",
   "pygments_lexer": "ipython3",
   "version": "3.8.5"
  }
 },
 "nbformat": 4,
 "nbformat_minor": 4
}
