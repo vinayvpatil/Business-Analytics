{
 "cells": [
  {
   "cell_type": "markdown",
   "metadata": {},
   "source": [
    "## SQL A10\n",
    "### Q-19. Write an SQL query to determine the 5th highest salary without using TOP or limit method.\n",
    "#### Answer :\n",
    "\\# Solution 1: <br>\n",
    "SELECT * FROM (SELECT ROW_NUMBER() OVER (ORDER BY salary DESC) AS R_NUM, first_name, salary FROM employee) as HEllO WHERE R_NUM=5; <br>\n",
    " <br>\n",
    "\\# Solution 2: <br>\n",
    "SELECT salary from Employee e1 where 4 = (SELECT COUNT(DISTINCT salary)from Employee e2 where e2.salary > e1.salary)"
   ]
  },
  {
   "cell_type": "markdown",
   "metadata": {},
   "source": [
    "### Q-20. Write an SQL query to fetch the list of employees with the same salary.\n",
    "#### Answer :\n",
    "\\# Solution 1 <br>\n",
    "Select DISTINCT w.Id, w.Salary  <br>\n",
    "from Worker w, Worker w1  <br>\n",
    "where w.Salary = w1.Salary  <br>\n",
    "and w.Id != w1.Id; <br>\n",
    " <br>\n",
    "\\# Solution 2 <br>\n",
    "SELECT * FROM employee ORDER BY salary ASC; <br>\n",
    "\\# (the above code will list all employees with their salaries in ascending order)"
   ]
  }
 ],
 "metadata": {
  "kernelspec": {
   "display_name": "Python 3",
   "language": "python",
   "name": "python3"
  },
  "language_info": {
   "codemirror_mode": {
    "name": "ipython",
    "version": 3
   },
   "file_extension": ".py",
   "mimetype": "text/x-python",
   "name": "python",
   "nbconvert_exporter": "python",
   "pygments_lexer": "ipython3",
   "version": "3.8.5"
  }
 },
 "nbformat": 4,
 "nbformat_minor": 4
}
