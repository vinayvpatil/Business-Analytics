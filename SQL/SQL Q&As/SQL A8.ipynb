{
 "cells": [
  {
   "cell_type": "markdown",
   "metadata": {},
   "source": [
    "## SQL A8\n",
    "### Q-15. Write an SQL query to fetch intersecting records of two tables.\n",
    "#### Answer :\n",
    "SELECT \\<Column_names\\> FROM table_1 INTERSECT SELECT \\<Column_names\\> FROM table_2;"
   ]
  },
  {
   "cell_type": "markdown",
   "metadata": {},
   "source": [
    "### Q-16. Write an SQL query to show records from one table that another table does not have.\n",
    "#### Answer :\n",
    "\\# Solution 1 <br>\n",
    "SELECT * FROM table_1 EXCEPT SELECT * FROM table_2; <br>\n",
    "<br>\n",
    "Solution 2 <br>\n",
    "select * from table_1 where Id NOT IN (select Id from table_2); <br>\n",
    "<br>\n",
    "** Difference between EXCEPT and NOT IN ** <br>\n",
    "The EXCEPT operator removes duplicate rows from the results and returns only DISTINCT records. On the other hand, the NOT IN operator will return duplicate records.<br>\n",
    "EXCEPT operator compares values in one or more than one columns. This means that the number of columns must be the same. On the other hand, the NOT IN operator compares values in a single column.<br>\n",
    "You cannot have an unequal number of columns for the queries on the left and right of an EXCEPT operator.<br>\n",
    "For the NOT IN operator, you cannot have more than one column in the sub-query as it will return an error."
   ]
  }
 ],
 "metadata": {
  "kernelspec": {
   "display_name": "Python 3",
   "language": "python",
   "name": "python3"
  },
  "language_info": {
   "codemirror_mode": {
    "name": "ipython",
    "version": 3
   },
   "file_extension": ".py",
   "mimetype": "text/x-python",
   "name": "python",
   "nbconvert_exporter": "python",
   "pygments_lexer": "ipython3",
   "version": "3.8.5"
  }
 },
 "nbformat": 4,
 "nbformat_minor": 4
}
