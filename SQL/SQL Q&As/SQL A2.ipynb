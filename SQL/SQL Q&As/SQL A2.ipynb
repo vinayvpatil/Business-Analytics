{
 "cells": [
  {
   "cell_type": "markdown",
   "metadata": {},
   "source": [
    "## SQL A2\n",
    "### Q-1. Write an SQL query to print the first three characters of  FIRST_NAME from Worker table.\n",
    "#### Answer :\n",
    "SELECT SUBSTRING(FIRST_NAME,1,3) FROM Worker;"
   ]
  },
  {
   "cell_type": "markdown",
   "metadata": {},
   "source": [
    "### Q-2. Write an SQL query to find the position of the alphabet (‘a’) in the first name column ‘Amitabh’ from Worker table.\n",
    "#### Answer :\n",
    "\\# Solution 1 <br>\n",
    "SELECT LOCATE('a', FIRST_NAME) FROM Worker WHERE FIRST_NAME = 'Amitabh';  <br>\n",
    "\\# Solution 2  <br>\n",
    "SELECT POSITION('a' IN FIRST_NAME) FROM Worker WHERE FIRST_NAME = 'Amitabh';"
   ]
  },
  {
   "cell_type": "markdown",
   "metadata": {},
   "source": [
    "### Q-3. Write an SQL query to print the name of employees having the highest salary in each department.\n",
    "#### Answer :\n",
    "\\# Solution 1 <br>\n",
    "SELECT first_name, last_name, salary, department FROM Worker w WHERE salary = (SELECT MAX(salary) FROM Worker WHERE department = w.department) <br>\n",
    "\\# Solution 2 <br>\n",
    "select Department.Name as Department, e1.Name as Employee, e1.Salary as Salary <br>\n",
    "from Department join Employee e1 ON Department.Id = e1.DepartmentId <br>\n",
    "where e1.Salary = (select Max(Salary) from Employee e2 where e2.DepartmentId = e1.DepartmentId)"
   ]
  }
 ],
 "metadata": {
  "kernelspec": {
   "display_name": "Python 3",
   "language": "python",
   "name": "python3"
  },
  "language_info": {
   "codemirror_mode": {
    "name": "ipython",
    "version": 3
   },
   "file_extension": ".py",
   "mimetype": "text/x-python",
   "name": "python",
   "nbconvert_exporter": "python",
   "pygments_lexer": "ipython3",
   "version": "3.8.5"
  }
 },
 "nbformat": 4,
 "nbformat_minor": 4
}
