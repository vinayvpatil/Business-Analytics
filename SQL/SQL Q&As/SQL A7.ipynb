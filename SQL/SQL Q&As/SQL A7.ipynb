{
 "cells": [
  {
   "cell_type": "markdown",
   "metadata": {},
   "source": [
    "## SQL A13\n",
    "### Q-1. Write an SQL query to show only odd rows from a table.\n",
    "#### Answer :\n",
    "SELECT * FROM Worker Where MOD(worker_id,2) = 1"
   ]
  },
  {
   "cell_type": "markdown",
   "metadata": {},
   "source": [
    "### Q-14. Write an SQL query to clone a new table from another table.\n",
    "#### Answer :\n",
    "#### Creating an Empty Table\n",
    "CREATE TABLE new_table LIKE original_table;\n",
    "#### Inserting Data into Table\n",
    "INSERT INTO new_table SELECT * FROM original_table;"
   ]
  }
 ],
 "metadata": {
  "kernelspec": {
   "display_name": "Python 3",
   "language": "python",
   "name": "python3"
  },
  "language_info": {
   "codemirror_mode": {
    "name": "ipython",
    "version": 3
   },
   "file_extension": ".py",
   "mimetype": "text/x-python",
   "name": "python",
   "nbconvert_exporter": "python",
   "pygments_lexer": "ipython3",
   "version": "3.8.5"
  }
 },
 "nbformat": 4,
 "nbformat_minor": 4
}
